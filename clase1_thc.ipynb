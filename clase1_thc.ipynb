{
  "nbformat": 4,
  "nbformat_minor": 0,
  "metadata": {
    "colab": {
      "provenance": [],
      "authorship_tag": "ABX9TyMNlGxklsx7722J2sl+IHG9",
      "include_colab_link": true
    },
    "kernelspec": {
      "name": "python3",
      "display_name": "Python 3"
    },
    "language_info": {
      "name": "python"
    }
  },
  "cells": [
    {
      "cell_type": "markdown",
      "metadata": {
        "id": "view-in-github",
        "colab_type": "text"
      },
      "source": [
        "<a href=\"https://colab.research.google.com/github/mike1502/python_thc_2025/blob/main/clase1_thc.ipynb\" target=\"_parent\"><img src=\"https://colab.research.google.com/assets/colab-badge.svg\" alt=\"Open In Colab\"/></a>"
      ]
    },
    {
      "cell_type": "code",
      "source": [],
      "metadata": {
        "id": "JUUFkWdouxFz"
      },
      "execution_count": null,
      "outputs": []
    },
    {
      "cell_type": "markdown",
      "source": [
        "***Este es el primer programa de Python del curso de THC. ***\n",
        "\\begin{equation}\n",
        "x=y\n",
        "\\end{equation}"
      ],
      "metadata": {
        "id": "aAp5JYYsuzdL"
      }
    },
    {
      "cell_type": "code",
      "execution_count": null,
      "metadata": {
        "colab": {
          "base_uri": "https://localhost:8080/"
        },
        "id": "CIHggVitslVk",
        "outputId": "84e960a8-e743-49cb-9ec5-69894b1836a7"
      },
      "outputs": [
        {
          "output_type": "stream",
          "name": "stdout",
          "text": [
            "15 Miguel\n",
            "Hola mundo\n",
            "Est es el primer programa en Python\n"
          ]
        }
      ],
      "source": [
        "x=15  # variable de tipo entero\n",
        "y='Miguel'   #variable de tipo cadena (string)\n",
        "print(x,y)  # el comando print muestra en pantalla el resultado de mi variable u operaciones\n",
        "\n",
        "z=\"Hola mundo\"\n",
        "print(z)\n",
        "\n",
        "xy=\"Est es el primer programa en Python\"\n",
        "print(xy)"
      ]
    },
    {
      "cell_type": "code",
      "source": [
        "a=6\n",
        "b=5.5 # variable tipo flotante\n",
        "suma=a+b # aqui hago la suma de los valores a y b\n",
        "print(suma)"
      ],
      "metadata": {
        "colab": {
          "base_uri": "https://localhost:8080/"
        },
        "id": "qHGUoWosuPsV",
        "outputId": "7a66484d-b368-45bd-f068-b7b7e2302757"
      },
      "execution_count": null,
      "outputs": [
        {
          "output_type": "stream",
          "name": "stdout",
          "text": [
            "11.5\n"
          ]
        }
      ]
    },
    {
      "cell_type": "code",
      "source": [
        "#Casteo\n",
        "x1=int(3) # especificamos que x1 es un entero\n",
        "y1=float(6) # especificamos que y1 es flotante (número con decimales)\n",
        "z1=str(6) # transformamos el 6 a cadena\n",
        "print(type(x1))\n",
        "print(type(y1))\n",
        "print(type(z1))\n",
        "print(z1)"
      ],
      "metadata": {
        "id": "yOF7fhwJup5V",
        "outputId": "8a9fc3ef-5537-4f80-84a4-2c4701f00f76",
        "colab": {
          "base_uri": "https://localhost:8080/"
        }
      },
      "execution_count": null,
      "outputs": [
        {
          "output_type": "stream",
          "name": "stdout",
          "text": [
            "<class 'int'>\n",
            "<class 'float'>\n",
            "<class 'str'>\n",
            "6\n"
          ]
        }
      ]
    },
    {
      "cell_type": "code",
      "source": [
        "nombre1=\"Miguel Carrillo\"\n",
        "nombre2='Miguel Carrillo'\n",
        "print(nombre1)\n",
        "print(nombre2)"
      ],
      "metadata": {
        "id": "u1NL9cYl0m5i",
        "outputId": "c0807c50-e5f2-4d1b-e596-60fdbce6b259",
        "colab": {
          "base_uri": "https://localhost:8080/"
        }
      },
      "execution_count": null,
      "outputs": [
        {
          "output_type": "stream",
          "name": "stdout",
          "text": [
            "Miguel Carrillo\n",
            "Miguel Carrillo\n"
          ]
        }
      ]
    },
    {
      "cell_type": "code",
      "source": [
        "b=55\n",
        "B=\"Mi nombre\"\n",
        "print(b,B)"
      ],
      "metadata": {
        "id": "8KlpOD7t2CQJ",
        "outputId": "54874f58-f166-46d2-e85a-94c30eb2c626",
        "colab": {
          "base_uri": "https://localhost:8080/"
        }
      },
      "execution_count": null,
      "outputs": [
        {
          "output_type": "stream",
          "name": "stdout",
          "text": [
            "55 Mi nombre\n"
          ]
        }
      ]
    },
    {
      "cell_type": "code",
      "source": [
        "print(17 // 5)\n",
        "print(17 % 5)"
      ],
      "metadata": {
        "id": "IldylqiL2DG3",
        "outputId": "d47bfcd7-8ff1-40f4-e9d8-eeb3d1a678e5",
        "colab": {
          "base_uri": "https://localhost:8080/"
        }
      },
      "execution_count": 1,
      "outputs": [
        {
          "output_type": "stream",
          "name": "stdout",
          "text": [
            "3\n",
            "2\n"
          ]
        }
      ]
    }
  ]
}