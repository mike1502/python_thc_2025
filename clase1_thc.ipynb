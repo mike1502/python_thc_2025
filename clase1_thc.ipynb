{
  "nbformat": 4,
  "nbformat_minor": 0,
  "metadata": {
    "colab": {
      "provenance": [],
      "authorship_tag": "ABX9TyPGjwcX7cVfGoUvW9I28Kmy",
      "include_colab_link": true
    },
    "kernelspec": {
      "name": "python3",
      "display_name": "Python 3"
    },
    "language_info": {
      "name": "python"
    }
  },
  "cells": [
    {
      "cell_type": "markdown",
      "metadata": {
        "id": "view-in-github",
        "colab_type": "text"
      },
      "source": [
        "<a href=\"https://colab.research.google.com/github/mike1502/python_thc_2025/blob/main/clase1_thc.ipynb\" target=\"_parent\"><img src=\"https://colab.research.google.com/assets/colab-badge.svg\" alt=\"Open In Colab\"/></a>"
      ]
    },
    {
      "cell_type": "code",
      "source": [],
      "metadata": {
        "id": "JUUFkWdouxFz"
      },
      "execution_count": null,
      "outputs": []
    },
    {
      "cell_type": "markdown",
      "source": [
        "***Este es el primer programa de Python del curso de THC. ***\n",
        "\\begin{equation}\n",
        "x=y\n",
        "\\end{equation}"
      ],
      "metadata": {
        "id": "aAp5JYYsuzdL"
      }
    },
    {
      "cell_type": "code",
      "execution_count": 8,
      "metadata": {
        "colab": {
          "base_uri": "https://localhost:8080/"
        },
        "id": "CIHggVitslVk",
        "outputId": "3ca8533c-799d-4b97-fe8c-17d4bfb2456c"
      },
      "outputs": [
        {
          "output_type": "stream",
          "name": "stdout",
          "text": [
            "15 Miguel\n",
            "Hola mundo\n",
            "Est es el primer programa en Python\n"
          ]
        }
      ],
      "source": [
        "x=15  # variable de tipo entero\n",
        "y='Miguel'   #variable de tipo cadena (string)\n",
        "print(x,y)  # el comando print muestra en pantalla el resultado de mi variable u operaciones\n",
        "\n",
        "z=\"Hola mundo\"\n",
        "print(z)\n",
        "\n",
        "xy=\"Est es el primer programa en Python\"\n",
        "print(xy)"
      ]
    },
    {
      "cell_type": "code",
      "source": [
        "a=6\n",
        "b=5.5 # variable tipo flotante\n",
        "suma=a+b # aqui hago la suma de los valores a y b\n",
        "print(suma)"
      ],
      "metadata": {
        "colab": {
          "base_uri": "https://localhost:8080/"
        },
        "id": "qHGUoWosuPsV",
        "outputId": "3db9312e-3a81-4edb-dc3d-640b0b3e78a3"
      },
      "execution_count": 12,
      "outputs": [
        {
          "output_type": "stream",
          "name": "stdout",
          "text": [
            "11.5\n"
          ]
        }
      ]
    },
    {
      "cell_type": "code",
      "source": [],
      "metadata": {
        "id": "yOF7fhwJup5V"
      },
      "execution_count": null,
      "outputs": []
    }
  ]
}